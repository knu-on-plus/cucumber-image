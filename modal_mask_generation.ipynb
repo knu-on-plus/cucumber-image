{
 "cells": [
  {
   "cell_type": "code",
   "execution_count": 1,
   "metadata": {},
   "outputs": [],
   "source": [
    "import json\n",
    "import os\n",
    "import cv2\n",
    "import numpy as np\n",
    "import random\n",
    "\n",
    "from custom_utils import *\n",
    "from amodal_utils import *\n",
    "from coco_json import initialize_coco_json, save_coco_json, add_to_coco_json\n",
    "from visualization_utils import visualize_merged_amodal_and_modal, visualize_all_masks\n",
    "from config import INPUT_PATHS, OUTPUT_PATHS, HYPERPARAMETERS"
   ]
  },
  {
   "cell_type": "code",
   "execution_count": null,
   "metadata": {},
   "outputs": [],
   "source": [
    "import cv2\n",
    "import numpy as np\n",
    "\n",
    "# 이미지 불러오기 (경로 설정)\n",
    "image_paths = [\"/home/knuvi/Desktop/song/occlusion-mask-generation/data/splitted/cropped_leaves/debugging/cropped_oi_043_1_1_00.png\", \"/home/knuvi/Desktop/song/occlusion-mask-generation/data/splitted/cropped_leaves/debugging/cropped_oi_410_1_1_00.png\"]  # 파일 경로 수정\n",
    "output_masks = [\"mask1.png\", \"mask2.png\"]  # 출력 마스크 경로\n",
    "\n",
    "# 이미지에서 알파 채널을 기반으로 마스크 생성\n",
    "for idx, image_path in enumerate(image_paths):\n",
    "    # 이미지 읽기 (4채널)\n",
    "    image = cv2.imread(image_path, cv2.IMREAD_UNCHANGED)\n",
    "    \n",
    "    # 알파 채널 분리 (A 채널)\n",
    "    alpha_channel = image[:, :, 3]\n",
    "    \n",
    "    # 마스크 생성 (잎 영역은 흰색, 배경은 검은색)\n",
    "    mask = np.where(alpha_channel > 0, 255, 0).astype(np.uint8)\n",
    "    \n",
    "    # 마스크 이미지 저장\n",
    "    cv2.imwrite(output_masks[idx], mask)\n",
    "    print(f\"마스크 {output_masks[idx]} 저장 완료.\")\n"
   ]
  },
  {
   "cell_type": "markdown",
   "metadata": {},
   "source": [
    "#### Merged image generation"
   ]
  },
  {
   "cell_type": "code",
   "execution_count": 2,
   "metadata": {},
   "outputs": [],
   "source": [
    "def merge_leaf_to_cucumber(cucumber_image, leaf_image, cucumber_mask, position, occlusion_ratio, initial_leaf_ratio):\n",
    "    # 오이 객체 중심 계산\n",
    "    cucumber_bbox = get_bbox_from_mask(cucumber_mask)\n",
    "    # 위치에 따른 좌표 계산\n",
    "    leaf_location = calculate_leaf_location(cucumber_bbox, position)\n",
    "    print(f'leaf_location: {leaf_location}')\n",
    "    leaf_image = leaf_size_initialization(cucumber_mask, leaf_image, initial_leaf_ratio)\n",
    "    \n",
    "    print(f'position: {position}, occlusion_ratio: {occlusion_ratio}')\n",
    "    resized_leaf_image = resize_leaf_to_target_ratio(cucumber_mask, leaf_image, leaf_location, occlusion_ratio)\n",
    "    \n",
    "    merged_image, leaf_mask = merge_and_crop_leaf(cucumber_image, resized_leaf_image, leaf_location)\n",
    "\n",
    "    return merged_image, leaf_mask\n",
    "\n",
    "def merge_multi_leaves_to_cucumber(cucumber_image, leaf_image1, leaf_image2, cucumber_mask, position, occlusion_ratio, initial_leaf_ratio):\n",
    "    # 오이 객체 중심 계산\n",
    "    cucumber_bbox = get_bbox_from_mask(cucumber_mask)\n",
    "    # 위치에 따른 좌표 계산\n",
    "    leaf_location1 = calculate_leaf_location(cucumber_bbox, 'top')\n",
    "    leaf_location2 = calculate_leaf_location(cucumber_bbox, 'bottom')\n",
    "\n",
    "    print(f'occlusion_ratio: {occlusion_ratio}')\n",
    "    leaf_image1 = leaf_size_initialization(cucumber_mask, leaf_image1, initial_leaf_ratio)\n",
    "    leaf_image2 = leaf_size_initialization(cucumber_mask, leaf_image2, initial_leaf_ratio)\n",
    "\n",
    "    leaf_location1, leaf_location2 = adjust_leaves_to_occlusion(cucumber_mask, leaf_image1, leaf_image2, leaf_location1, leaf_location2, occlusion_ratio)\n",
    "    merged_image1, leaf_mask1 = merge_and_crop_leaf(cucumber_image, leaf_image1, leaf_location1)\n",
    "    merged_image2, leaf_mask2 = merge_and_crop_leaf(merged_image1, leaf_image2, leaf_location2)\n",
    "    final_leaf_mask = cv2.bitwise_or(leaf_mask1, leaf_mask2)\n",
    "    return merged_image2, final_leaf_mask\n",
    "\n",
    "def synthesize_images(cucumber_image_path, cucumber_mask_path, leaf_image_paths, position, occlusion_ratio, initial_leaf_ratio, \n",
    "                      save_dir=None, global_image_id=0, target_size=(768, 1024), multi_leaves=0):\n",
    "    # 오이 이미지와 잎 이미지 로드\n",
    "    cucumber_image = cv2.imread(cucumber_image_path, cv2.IMREAD_UNCHANGED)\n",
    "    leaf_image = cv2.imread(leaf_image_paths[0], cv2.IMREAD_UNCHANGED)\n",
    "    cucumber_mask = cv2.imread(cucumber_mask_path, cv2.IMREAD_GRAYSCALE)\n",
    "    # 이미지를 합성\n",
    "    \n",
    "    if multi_leaves in [1,2]:\n",
    "        print(f\"Processing leaf image: {os.path.basename(leaf_image_paths[0]), os.path.basename(leaf_image_paths[1])}\")\n",
    "        leaf_image2 = cv2.imread(leaf_image_paths[1], cv2.IMREAD_UNCHANGED)\n",
    "        if multi_leaves == 1:\n",
    "            merged_image, leaf_mask = merge_multi_leaves_to_cucumber(cucumber_image, leaf_image, leaf_image2, cucumber_mask, position, occlusion_ratio,\n",
    "                                                                 initial_leaf_ratio)\n",
    "        else:\n",
    "            overlapped_leaves = overlap_dual_leaves(cucumber_mask, leaf_image, leaf_image2, initial_leaf_ratio)\n",
    "            merged_image, leaf_mask = merge_leaf_to_cucumber(cucumber_image, overlapped_leaves, cucumber_mask, position, occlusion_ratio, initial_leaf_ratio)\n",
    "\n",
    "    else:    \n",
    "        print(f\"Processing leaf image: {os.path.basename(leaf_image_paths[0])}\")\n",
    "        merged_image, leaf_mask = merge_leaf_to_cucumber(cucumber_image, leaf_image, cucumber_mask, position, occlusion_ratio, initial_leaf_ratio)\n",
    "\n",
    "    # 리사이즈\n",
    "    resized_image, resized_masks = resize_image_and_masks(\n",
    "        merged_image, [cucumber_mask, leaf_mask], target_size=target_size)\n",
    "    amodal_mask, leaf_mask = resized_masks\n",
    "    \n",
    "    # 합성 이미지 저장\n",
    "    cucumber_image_name = os.path.basename(cucumber_image_path)\n",
    "    merged_image_name = f\"{os.path.splitext(cucumber_image_name)[0]}_merged_{global_image_id:06d}_{occlusion_ratio}.png\"\n",
    "    resized_image_path = save_image(save_dir, merged_image_name, resized_image)\n",
    "    \n",
    "    return resized_image_path, amodal_mask, leaf_mask"
   ]
  },
  {
   "cell_type": "markdown",
   "metadata": {},
   "source": [
    "##### amodal mask info (occluder, occuluded)"
   ]
  },
  {
   "cell_type": "code",
   "execution_count": 3,
   "metadata": {},
   "outputs": [],
   "source": [
    "def generate_coco_annotation(coco_json, amodal_mask, modal_mask, leaf_mask, global_image_id, global_annotation_id, merged_image_path):\n",
    "    print(\"COCO Format 데이터 생성 시작...\")\n",
    "    # 5. 공통 Annotation 생성\n",
    "    cucumber_annotation = generate_annotation(\n",
    "        amodal_mask=amodal_mask,\n",
    "        modal_mask = modal_mask,\n",
    "        global_id=global_annotation_id,\n",
    "        image_id=global_image_id,\n",
    "        category_id=1,\n",
    "        occluder_segm=mask_to_polygon(leaf_mask)\n",
    "    )\n",
    "    coco_json[\"annotations\"].append(cucumber_annotation)\n",
    "    global_annotation_id += 1\n",
    "\n",
    "    # 6. 잎 Annotation 생성\n",
    "    leaf_annotation = generate_annotation(\n",
    "        amodal_mask=leaf_mask,\n",
    "        modal_mask = None,\n",
    "        global_id=global_annotation_id,\n",
    "        image_id=global_image_id,\n",
    "        category_id=2,  # 잎 클래스 ID\n",
    "    )\n",
    "    coco_json[\"annotations\"].append(leaf_annotation)\n",
    "    global_annotation_id += 1\n",
    "    \n",
    "    # 7. 이미지 정보 추가\n",
    "    image_info = {\n",
    "        \"id\": global_image_id,\n",
    "        \"width\": int(amodal_mask.shape[1]),\n",
    "        \"height\": int(amodal_mask.shape[0]),\n",
    "        \"file_name\": os.path.basename(merged_image_path),\n",
    "    }\n",
    "    coco_json[\"images\"].append(image_info)\n",
    "\n",
    "    return coco_json, global_annotation_id"
   ]
  },
  {
   "cell_type": "code",
   "execution_count": 4,
   "metadata": {},
   "outputs": [],
   "source": [
    "def process_amodal_images_and_masks(cucumber_image_path, leaf_cropped_image_paths, cucumber_mask_path, save_dir, mask_save_dir, \n",
    "                                    coco_json, global_image_id, global_annotation_id, position, occlusion_ratio, initial_leaf_ratio, \n",
    "                                    multi_leaves=0):\n",
    "    \n",
    "    # 오이 이미지에 잎 이미지를 합성하고 저장\n",
    "    print(\"오이 이미지 합성 시작...\")\n",
    "    merged_image_path, amodal_mask, leaf_mask = synthesize_images(cucumber_image_path, cucumber_mask_path, leaf_cropped_image_paths, \n",
    "                                                                    position, occlusion_ratio, initial_leaf_ratio, save_dir, global_image_id, \n",
    "                                                                    multi_leaves=multi_leaves)\n",
    "    print(\"Modal 마스크 생성 시작...\")\n",
    "    # 3. Modal 마스크 생성 및 겹치는 부분 (가림) 정보 계산\n",
    "    modal_mask, overlap_mask = get_amodal_masks(amodal_mask, leaf_mask)\n",
    "    \n",
    "    save_processed_masks(amodal_mask, overlap_mask, modal_mask, leaf_mask, os.path.basename(merged_image_path), mask_save_dir)\n",
    "    \n",
    "    print(\"COCO Format 데이터 생성 시작...\")\n",
    "    # 4. COCO Format 데이터 생성\n",
    "    coco_json, global_annotation_id = generate_coco_annotation(\n",
    "        coco_json, amodal_mask, modal_mask, leaf_mask, global_image_id, global_annotation_id, merged_image_path)\n",
    "\n",
    "    # ID 증가\n",
    "    global_image_id += 1\n",
    "\n",
    "    # 9. 시각화\n",
    "    #visualize_merged_amodal_and_modal(cv2.imread(merged_image_path, cv2.IMREAD_UNCHANGED), amodal_mask, modal_mask)\n",
    "\n",
    "    return coco_json, global_image_id, global_annotation_id"
   ]
  },
  {
   "cell_type": "markdown",
   "metadata": {},
   "source": [
    "### hypter parameters"
   ]
  },
  {
   "cell_type": "code",
   "execution_count": 5,
   "metadata": {},
   "outputs": [
    {
     "name": "stdout",
     "output_type": "stream",
     "text": [
      "디렉터리가 이미 존재합니다: /home/knuvi/Desktop/song/occlusion-mask-generation/data/synthesis/amodal_images_condition3_test1\n",
      "디렉터리가 이미 존재합니다: /home/knuvi/Desktop/song/occlusion-mask-generation/data/synthesis/modal_masks_condition3_test1\n",
      "디렉터리가 이미 존재합니다: /home/knuvi/Desktop/song/occlusion-mask-generation/data/synthesis/amodal_info_condition3_test1\n"
     ]
    }
   ],
   "source": [
    "''' input'''\n",
    "dataset_type = HYPERPARAMETERS[\"dataset_type\"]\n",
    "cucumber_images_dir = INPUT_PATHS[\"cucumber_images_dir\"] + dataset_type\n",
    "cucumber_masks_dir = INPUT_PATHS[\"cucumber_masks_dir\"] + dataset_type\n",
    "leaf_cropped_dir = INPUT_PATHS[\"leaf_cropped_dir\"] + dataset_type\n",
    "\n",
    "''' output dir'''\n",
    "save_dir = OUTPUT_PATHS[\"save_dir\"]\n",
    "mask_save_dir = OUTPUT_PATHS[\"mask_save_dir\"]\n",
    "json_dir = OUTPUT_PATHS[\"json_dir\"]\n",
    "\n",
    "'''paramters '''\n",
    "\n",
    "image_index_start = HYPERPARAMETERS[\"image_index_start\"]\n",
    "sample_count = 0   # 현재 생성된 샘플 수\n",
    "position = HYPERPARAMETERS[\"position\"]  # 잎이 오이를 어디에 위치할지\n",
    "multi_leaves = HYPERPARAMETERS[\"multi_leaves\"]  # 한 잎 이미지에 대해 여러 오이 이미지에 합성할지 여부\n",
    "\n",
    "random_ratio = HYPERPARAMETERS[\"random_ratio\"]  # 랜덤\n",
    "ratios = HYPERPARAMETERS[\"r_settings\"]  # 랜덤\n",
    "proportions = HYPERPARAMETERS[\"r_proportions\"]  # 랜덤\n",
    "\n",
    "initial_leaf_ratio = HYPERPARAMETERS[\"initial_leaf_ratio\"]  # 잎 이미지 초기 비율\n",
    "sort = HYPERPARAMETERS[\"sort\"]  # 이미지 정렬\n",
    "\n",
    "'''초기화'''\n",
    "ensure_directories_exist([save_dir, mask_save_dir, json_dir])\n",
    "\n",
    "sample_limit = 50 if dataset_type == \"train\" else 500 # train = 10000, val = 4000\n",
    "\n",
    "if random_ratio:\n",
    "    occlusion_ratio_list = create_occlusion_ratio_list(sample_limit, ratios, proportions)\n",
    "else:\n",
    "    occlusion_ratio = HYPERPARAMETERS[\"occlusion_ratio\"]  # 잎이 오이를 얼마나 가리는지 비율\n",
    "\n",
    "    "
   ]
  },
  {
   "cell_type": "markdown",
   "metadata": {},
   "source": [
    "#### Multiple Generation Code"
   ]
  },
  {
   "cell_type": "code",
   "execution_count": 6,
   "metadata": {},
   "outputs": [
    {
     "name": "stdout",
     "output_type": "stream",
     "text": [
      "유효한 오이 이미지 수: 1\n",
      "오이 이미지 당 샘플 수: 500, 추가 샘플 수: 0\n"
     ]
    },
    {
     "name": "stderr",
     "output_type": "stream",
     "text": [
      "Generated samples:   0%|          | 0/500 [00:00<?, ?samples/s]"
     ]
    },
    {
     "name": "stdout",
     "output_type": "stream",
     "text": [
      "오이 이미지 합성 시작...\n",
      "Processing leaf image: ('cropped_oi_043_1_1_00.png', 'cropped_oi_410_1_1_00.png')\n",
      "leaf_location: (1205, 2652)\n",
      "position: middle, occlusion_ratio: 0.5\n"
     ]
    },
    {
     "name": "stderr",
     "output_type": "stream",
     "text": [
      "Generated samples:   0%|          | 1/500 [00:01<15:36,  1.88s/samples]"
     ]
    },
    {
     "name": "stdout",
     "output_type": "stream",
     "text": [
      "Modal 마스크 생성 시작...\n",
      "COCO Format 데이터 생성 시작...\n",
      "COCO Format 데이터 생성 시작...\n",
      "polygon len : 1\n",
      "polygon len : 1\n",
      "polygon len : 2\n",
      "polygon len : 1\n",
      "polygon len : 1\n",
      "오이 이미지 합성 시작...\n",
      "Processing leaf image: ('cropped_oi_545_1_1_00.png', 'cropped_oi_282_1_1_00.png')\n",
      "leaf_location: (1205, 2652)\n",
      "position: middle, occlusion_ratio: 0.5\n"
     ]
    },
    {
     "name": "stderr",
     "output_type": "stream",
     "text": [
      "Generated samples:   0%|          | 2/500 [00:04<17:00,  2.05s/samples]"
     ]
    },
    {
     "name": "stdout",
     "output_type": "stream",
     "text": [
      "Modal 마스크 생성 시작...\n",
      "COCO Format 데이터 생성 시작...\n",
      "COCO Format 데이터 생성 시작...\n",
      "polygon len : 1\n",
      "polygon len : 1\n",
      "polygon len : 2\n",
      "polygon len : 1\n",
      "polygon len : 1\n",
      "오이 이미지 합성 시작...\n",
      "Processing leaf image: ('cropped_oi_011_1_1_00.png', 'cropped_oi_119_1_1_00.png')\n",
      "leaf_location: (1205, 2652)\n",
      "position: middle, occlusion_ratio: 0.5\n"
     ]
    },
    {
     "name": "stderr",
     "output_type": "stream",
     "text": [
      "Generated samples:   1%|          | 3/500 [00:05<15:47,  1.91s/samples]"
     ]
    },
    {
     "name": "stdout",
     "output_type": "stream",
     "text": [
      "Modal 마스크 생성 시작...\n",
      "COCO Format 데이터 생성 시작...\n",
      "COCO Format 데이터 생성 시작...\n",
      "polygon len : 1\n",
      "polygon len : 1\n",
      "polygon len : 2\n",
      "polygon len : 1\n",
      "polygon len : 1\n",
      "오이 이미지 합성 시작...\n",
      "Processing leaf image: ('cropped_oi_005_1_1_00.png', 'cropped_oi_076_1_1_00.png')\n",
      "leaf_location: (1205, 2652)\n",
      "position: middle, occlusion_ratio: 0.7\n"
     ]
    },
    {
     "name": "stderr",
     "output_type": "stream",
     "text": [
      "Generated samples:   1%|          | 3/500 [00:08<22:40,  2.74s/samples]\n"
     ]
    },
    {
     "ename": "KeyboardInterrupt",
     "evalue": "",
     "output_type": "error",
     "traceback": [
      "\u001b[0;31m---------------------------------------------------------------------------\u001b[0m",
      "\u001b[0;31mKeyboardInterrupt\u001b[0m                         Traceback (most recent call last)",
      "Cell \u001b[0;32mIn[6], line 73\u001b[0m\n\u001b[1;32m     70\u001b[0m     occlusion_ratio \u001b[38;5;241m=\u001b[39m occlusion_ratio_list[sample_count] \u001b[38;5;241m/\u001b[39m \u001b[38;5;241m100.0\u001b[39m\n\u001b[1;32m     72\u001b[0m \u001b[38;5;66;03m# 오이와 잎 이미지를 합성\u001b[39;00m\n\u001b[0;32m---> 73\u001b[0m coco_json, global_image_id, global_annotation_id \u001b[38;5;241m=\u001b[39m \u001b[43mprocess_amodal_images_and_masks\u001b[49m\u001b[43m(\u001b[49m\n\u001b[1;32m     74\u001b[0m \u001b[43m    \u001b[49m\u001b[43mcucumber_image_path\u001b[49m\u001b[38;5;241;43m=\u001b[39;49m\u001b[43mcucumber_image_path\u001b[49m\u001b[43m,\u001b[49m\n\u001b[1;32m     75\u001b[0m \u001b[43m    \u001b[49m\u001b[43mleaf_cropped_image_paths\u001b[49m\u001b[38;5;241;43m=\u001b[39;49m\u001b[43mleaves_cropped_image_paths\u001b[49m\u001b[43m,\u001b[49m\n\u001b[1;32m     76\u001b[0m \u001b[43m    \u001b[49m\u001b[43mcucumber_mask_path\u001b[49m\u001b[38;5;241;43m=\u001b[39;49m\u001b[43mcucumber_mask_path\u001b[49m\u001b[43m,\u001b[49m\n\u001b[1;32m     77\u001b[0m \u001b[43m    \u001b[49m\u001b[43msave_dir\u001b[49m\u001b[38;5;241;43m=\u001b[39;49m\u001b[43msave_dir\u001b[49m\u001b[43m,\u001b[49m\n\u001b[1;32m     78\u001b[0m \u001b[43m    \u001b[49m\u001b[43mmask_save_dir\u001b[49m\u001b[38;5;241;43m=\u001b[39;49m\u001b[43mmask_save_dir\u001b[49m\u001b[43m,\u001b[49m\n\u001b[1;32m     79\u001b[0m \u001b[43m    \u001b[49m\u001b[43mcoco_json\u001b[49m\u001b[38;5;241;43m=\u001b[39;49m\u001b[43mcoco_json\u001b[49m\u001b[43m,\u001b[49m\n\u001b[1;32m     80\u001b[0m \u001b[43m    \u001b[49m\u001b[43mglobal_image_id\u001b[49m\u001b[38;5;241;43m=\u001b[39;49m\u001b[43mglobal_image_id\u001b[49m\u001b[43m,\u001b[49m\n\u001b[1;32m     81\u001b[0m \u001b[43m    \u001b[49m\u001b[43mglobal_annotation_id\u001b[49m\u001b[38;5;241;43m=\u001b[39;49m\u001b[43mglobal_annotation_id\u001b[49m\u001b[43m,\u001b[49m\n\u001b[1;32m     82\u001b[0m \u001b[43m    \u001b[49m\u001b[43mposition\u001b[49m\u001b[38;5;241;43m=\u001b[39;49m\u001b[43mposition\u001b[49m\u001b[43m,\u001b[49m\n\u001b[1;32m     83\u001b[0m \u001b[43m    \u001b[49m\u001b[43mocclusion_ratio\u001b[49m\u001b[38;5;241;43m=\u001b[39;49m\u001b[43mocclusion_ratio\u001b[49m\u001b[43m,\u001b[49m\n\u001b[1;32m     84\u001b[0m \u001b[43m    \u001b[49m\u001b[43minitial_leaf_ratio\u001b[49m\u001b[38;5;241;43m=\u001b[39;49m\u001b[43minitial_leaf_ratio\u001b[49m\u001b[43m,\u001b[49m\n\u001b[1;32m     85\u001b[0m \u001b[43m    \u001b[49m\u001b[43mmulti_leaves\u001b[49m\u001b[38;5;241;43m=\u001b[39;49m\u001b[43mmulti_leaves\u001b[49m\n\u001b[1;32m     86\u001b[0m \u001b[43m\u001b[49m\u001b[43m)\u001b[49m\n\u001b[1;32m     88\u001b[0m sample_count \u001b[38;5;241m+\u001b[39m\u001b[38;5;241m=\u001b[39m \u001b[38;5;241m1\u001b[39m\n\u001b[1;32m     89\u001b[0m cucumber_sample_count \u001b[38;5;241m+\u001b[39m\u001b[38;5;241m=\u001b[39m \u001b[38;5;241m1\u001b[39m\n",
      "Cell \u001b[0;32mIn[4], line 7\u001b[0m, in \u001b[0;36mprocess_amodal_images_and_masks\u001b[0;34m(cucumber_image_path, leaf_cropped_image_paths, cucumber_mask_path, save_dir, mask_save_dir, coco_json, global_image_id, global_annotation_id, position, occlusion_ratio, initial_leaf_ratio, multi_leaves)\u001b[0m\n\u001b[1;32m      1\u001b[0m \u001b[38;5;28;01mdef\u001b[39;00m \u001b[38;5;21mprocess_amodal_images_and_masks\u001b[39m(cucumber_image_path, leaf_cropped_image_paths, cucumber_mask_path, save_dir, mask_save_dir, \n\u001b[1;32m      2\u001b[0m                                     coco_json, global_image_id, global_annotation_id, position, occlusion_ratio, initial_leaf_ratio, \n\u001b[1;32m      3\u001b[0m                                     multi_leaves\u001b[38;5;241m=\u001b[39m\u001b[38;5;241m0\u001b[39m):\n\u001b[1;32m      4\u001b[0m     \n\u001b[1;32m      5\u001b[0m     \u001b[38;5;66;03m# 오이 이미지에 잎 이미지를 합성하고 저장\u001b[39;00m\n\u001b[1;32m      6\u001b[0m     \u001b[38;5;28mprint\u001b[39m(\u001b[38;5;124m\"\u001b[39m\u001b[38;5;124m오이 이미지 합성 시작...\u001b[39m\u001b[38;5;124m\"\u001b[39m)\n\u001b[0;32m----> 7\u001b[0m     merged_image_path, amodal_mask, leaf_mask \u001b[38;5;241m=\u001b[39m \u001b[43msynthesize_images\u001b[49m\u001b[43m(\u001b[49m\u001b[43mcucumber_image_path\u001b[49m\u001b[43m,\u001b[49m\u001b[43m \u001b[49m\u001b[43mcucumber_mask_path\u001b[49m\u001b[43m,\u001b[49m\u001b[43m \u001b[49m\u001b[43mleaf_cropped_image_paths\u001b[49m\u001b[43m,\u001b[49m\u001b[43m \u001b[49m\n\u001b[1;32m      8\u001b[0m \u001b[43m                                                                    \u001b[49m\u001b[43mposition\u001b[49m\u001b[43m,\u001b[49m\u001b[43m \u001b[49m\u001b[43mocclusion_ratio\u001b[49m\u001b[43m,\u001b[49m\u001b[43m \u001b[49m\u001b[43minitial_leaf_ratio\u001b[49m\u001b[43m,\u001b[49m\u001b[43m \u001b[49m\u001b[43msave_dir\u001b[49m\u001b[43m,\u001b[49m\u001b[43m \u001b[49m\u001b[43mglobal_image_id\u001b[49m\u001b[43m,\u001b[49m\u001b[43m \u001b[49m\n\u001b[1;32m      9\u001b[0m \u001b[43m                                                                    \u001b[49m\u001b[43mmulti_leaves\u001b[49m\u001b[38;5;241;43m=\u001b[39;49m\u001b[43mmulti_leaves\u001b[49m\u001b[43m)\u001b[49m\n\u001b[1;32m     10\u001b[0m     \u001b[38;5;28mprint\u001b[39m(\u001b[38;5;124m\"\u001b[39m\u001b[38;5;124mModal 마스크 생성 시작...\u001b[39m\u001b[38;5;124m\"\u001b[39m)\n\u001b[1;32m     11\u001b[0m     \u001b[38;5;66;03m# 3. Modal 마스크 생성 및 겹치는 부분 (가림) 정보 계산\u001b[39;00m\n",
      "Cell \u001b[0;32mIn[2], line 49\u001b[0m, in \u001b[0;36msynthesize_images\u001b[0;34m(cucumber_image_path, cucumber_mask_path, leaf_image_paths, position, occlusion_ratio, initial_leaf_ratio, save_dir, global_image_id, target_size, multi_leaves)\u001b[0m\n\u001b[1;32m     47\u001b[0m     \u001b[38;5;28;01melse\u001b[39;00m:\n\u001b[1;32m     48\u001b[0m         overlapped_leaves \u001b[38;5;241m=\u001b[39m overlap_dual_leaves(cucumber_mask, leaf_image, leaf_image2, initial_leaf_ratio)\n\u001b[0;32m---> 49\u001b[0m         merged_image, leaf_mask \u001b[38;5;241m=\u001b[39m \u001b[43mmerge_leaf_to_cucumber\u001b[49m\u001b[43m(\u001b[49m\u001b[43mcucumber_image\u001b[49m\u001b[43m,\u001b[49m\u001b[43m \u001b[49m\u001b[43moverlapped_leaves\u001b[49m\u001b[43m,\u001b[49m\u001b[43m \u001b[49m\u001b[43mcucumber_mask\u001b[49m\u001b[43m,\u001b[49m\u001b[43m \u001b[49m\u001b[43mposition\u001b[49m\u001b[43m,\u001b[49m\u001b[43m \u001b[49m\u001b[43mocclusion_ratio\u001b[49m\u001b[43m,\u001b[49m\u001b[43m \u001b[49m\u001b[43minitial_leaf_ratio\u001b[49m\u001b[43m)\u001b[49m\n\u001b[1;32m     51\u001b[0m \u001b[38;5;28;01melse\u001b[39;00m:    \n\u001b[1;32m     52\u001b[0m     \u001b[38;5;28mprint\u001b[39m(\u001b[38;5;124mf\u001b[39m\u001b[38;5;124m\"\u001b[39m\u001b[38;5;124mProcessing leaf image: \u001b[39m\u001b[38;5;132;01m{\u001b[39;00mos\u001b[38;5;241m.\u001b[39mpath\u001b[38;5;241m.\u001b[39mbasename(leaf_image_paths[\u001b[38;5;241m0\u001b[39m])\u001b[38;5;132;01m}\u001b[39;00m\u001b[38;5;124m\"\u001b[39m)\n",
      "Cell \u001b[0;32mIn[2], line 12\u001b[0m, in \u001b[0;36mmerge_leaf_to_cucumber\u001b[0;34m(cucumber_image, leaf_image, cucumber_mask, position, occlusion_ratio, initial_leaf_ratio)\u001b[0m\n\u001b[1;32m      9\u001b[0m \u001b[38;5;28mprint\u001b[39m(\u001b[38;5;124mf\u001b[39m\u001b[38;5;124m'\u001b[39m\u001b[38;5;124mposition: \u001b[39m\u001b[38;5;132;01m{\u001b[39;00mposition\u001b[38;5;132;01m}\u001b[39;00m\u001b[38;5;124m, occlusion_ratio: \u001b[39m\u001b[38;5;132;01m{\u001b[39;00mocclusion_ratio\u001b[38;5;132;01m}\u001b[39;00m\u001b[38;5;124m'\u001b[39m)\n\u001b[1;32m     10\u001b[0m resized_leaf_image \u001b[38;5;241m=\u001b[39m resize_leaf_to_target_ratio(cucumber_mask, leaf_image, leaf_location, occlusion_ratio)\n\u001b[0;32m---> 12\u001b[0m merged_image, leaf_mask \u001b[38;5;241m=\u001b[39m \u001b[43mmerge_and_crop_leaf\u001b[49m\u001b[43m(\u001b[49m\u001b[43mcucumber_image\u001b[49m\u001b[43m,\u001b[49m\u001b[43m \u001b[49m\u001b[43mresized_leaf_image\u001b[49m\u001b[43m,\u001b[49m\u001b[43m \u001b[49m\u001b[43mleaf_location\u001b[49m\u001b[43m)\u001b[49m\n\u001b[1;32m     14\u001b[0m \u001b[38;5;28;01mreturn\u001b[39;00m merged_image, leaf_mask\n",
      "File \u001b[0;32m~/Desktop/song/occlusion-mask-generation/amodal_utils.py:282\u001b[0m, in \u001b[0;36mmerge_and_crop_leaf\u001b[0;34m(cucumber_image, resized_leaf_image, leaf_position)\u001b[0m\n\u001b[1;32m    278\u001b[0m \u001b[38;5;28;01mif\u001b[39;00m (crop_y_start \u001b[38;5;241m+\u001b[39m i \u001b[38;5;241m>\u001b[39m\u001b[38;5;241m=\u001b[39m cucumber_image\u001b[38;5;241m.\u001b[39mshape[\u001b[38;5;241m0\u001b[39m]) \u001b[38;5;129;01mor\u001b[39;00m (crop_x_start \u001b[38;5;241m+\u001b[39m j \u001b[38;5;241m>\u001b[39m\u001b[38;5;241m=\u001b[39m cucumber_image\u001b[38;5;241m.\u001b[39mshape[\u001b[38;5;241m1\u001b[39m]):\n\u001b[1;32m    279\u001b[0m     \u001b[38;5;66;03m#print(\"====== Warning: Leaf image out of bounds. ======\")\u001b[39;00m\n\u001b[1;32m    280\u001b[0m     \u001b[38;5;28;01mcontinue\u001b[39;00m  \u001b[38;5;66;03m# 경계를 벗어난 경우 스킵\u001b[39;00m\n\u001b[0;32m--> 282\u001b[0m \u001b[38;5;28;01mif\u001b[39;00m \u001b[43mcropped_leaf_image\u001b[49m\u001b[43m[\u001b[49m\u001b[43mi\u001b[49m\u001b[43m,\u001b[49m\u001b[43m \u001b[49m\u001b[43mj\u001b[49m\u001b[43m,\u001b[49m\u001b[43m \u001b[49m\u001b[38;5;241;43m3\u001b[39;49m\u001b[43m]\u001b[49m\u001b[43m \u001b[49m\u001b[38;5;241;43m>\u001b[39;49m\u001b[43m \u001b[49m\u001b[38;5;241;43m0\u001b[39;49m:  \u001b[38;5;66;03m# 투명하지 않은 경우\u001b[39;00m\n\u001b[1;32m    283\u001b[0m     merged_image[crop_y_start \u001b[38;5;241m+\u001b[39m i, crop_x_start \u001b[38;5;241m+\u001b[39m j] \u001b[38;5;241m=\u001b[39m cropped_leaf_image[i, j, :\u001b[38;5;241m3\u001b[39m]\n\u001b[1;32m    284\u001b[0m     leaf_mask[crop_y_start \u001b[38;5;241m+\u001b[39m i, crop_x_start \u001b[38;5;241m+\u001b[39m j] \u001b[38;5;241m=\u001b[39m \u001b[38;5;241m255\u001b[39m  \u001b[38;5;66;03m# 잎 마스크 업데이트\u001b[39;00m\n",
      "\u001b[0;31mKeyboardInterrupt\u001b[0m: "
     ]
    }
   ],
   "source": [
    "# 특정 클래스 마스크만 선택 (클래스 0: 오이)\n",
    "def get_cucumber_masks(mask_dir, image_name):\n",
    "    cucumber_masks = []\n",
    "    for mask_file in os.listdir(mask_dir):\n",
    "        # 파일명이 이미지명과 매칭되고 클래스가 0인 마스크만 선택\n",
    "        if mask_file.startswith(image_name) and '_0_' in mask_file:\n",
    "            cucumber_masks.append(os.path.join(mask_dir, mask_file))\n",
    "    return cucumber_masks\n",
    "\n",
    "\n",
    "# cucumber 이미지 파일 불러오기\n",
    "cucumber_image_paths = get_image_paths_from_folder(cucumber_images_dir, sort=sort)\n",
    "\n",
    "# COCO JSON 초기화\n",
    "coco_json = initialize_coco_json()\n",
    "\n",
    "from tqdm import tqdm\n",
    "\n",
    "# 유효한 오이 이미지와 마스크 필터링\n",
    "valid_cucumber_paths = []\n",
    "for cucumber_image_path in cucumber_image_paths:\n",
    "    image_name = os.path.splitext(os.path.basename(cucumber_image_path))[0]\n",
    "    cucumber_mask_paths = get_cucumber_masks(cucumber_masks_dir, image_name)\n",
    "    if len(cucumber_mask_paths) > 0:\n",
    "        valid_cucumber_paths.append((cucumber_image_path, cucumber_mask_paths))\n",
    "\n",
    "# 유효한 오이 이미지 수 계산\n",
    "total_cucumber_images = len(valid_cucumber_paths)\n",
    "if total_cucumber_images == 0:\n",
    "    raise ValueError(\"유효한 오이 마스크가 있는 이미지가 없습니다!\")\n",
    "\n",
    "# 샘플 수 계산\n",
    "sample_per_cucumber = sample_limit // total_cucumber_images\n",
    "remaining_samples = sample_limit % total_cucumber_images\n",
    "\n",
    "print(f\"유효한 오이 이미지 수: {total_cucumber_images}\")\n",
    "print(f\"오이 이미지 당 샘플 수: {sample_per_cucumber}, 추가 샘플 수: {remaining_samples}\")\n",
    "\n",
    "# tqdm로 진행 상태 표시\n",
    "with tqdm(total=sample_limit, desc=\"Generated samples\", unit=\"samples\") as pbar:\n",
    "    sample_count = 0\n",
    "    global_image_id, global_annotation_id = 0, 0\n",
    "\n",
    "    # 각 cucumber 이미지에 대해 마스크와 잎 합성\n",
    "    for cucumber_idx, (cucumber_image_path, cucumber_mask_paths) in enumerate(valid_cucumber_paths):\n",
    "        # 오이 이미지 당 생성할 샘플 수\n",
    "        samples_for_this_cucumber = sample_per_cucumber\n",
    "        if cucumber_idx < remaining_samples:\n",
    "            samples_for_this_cucumber += 1\n",
    "\n",
    "        # 각 오이 이미지에서 생성된 샘플 수 추적\n",
    "        cucumber_sample_count = 0\n",
    "        leaf_cropped_image_paths = get_image_paths_from_folder(leaf_cropped_dir)\n",
    "\n",
    "        for cucumber_mask_path in cucumber_mask_paths:\n",
    "            # 샘플링된 잎 이미지 가져오기\n",
    "            sampled_leaf_paths = random_sample_leaf_paths(leaf_cropped_image_paths, samples_for_this_cucumber)\n",
    "\n",
    "            for idx, leaf_cropped_image_path in enumerate(sampled_leaf_paths):\n",
    "                if sample_count >= sample_limit:\n",
    "                    break  # 전체 샘플 한도 초과 시 종료\n",
    "                if cucumber_sample_count >= samples_for_this_cucumber:\n",
    "                    break  # 오이 이미지의 샘플 한도 초과 시 종료\n",
    "\n",
    "                # 잎 이미지 쌍 생성\n",
    "                pair_idx = -(idx + 1)\n",
    "                leaves_cropped_image_paths = [leaf_cropped_image_path, sampled_leaf_paths[pair_idx]]\n",
    "\n",
    "                if random_ratio:\n",
    "                    occlusion_ratio = occlusion_ratio_list[sample_count] / 100.0\n",
    "\n",
    "                # 오이와 잎 이미지를 합성\n",
    "                coco_json, global_image_id, global_annotation_id = process_amodal_images_and_masks(\n",
    "                    cucumber_image_path=cucumber_image_path,\n",
    "                    leaf_cropped_image_paths=leaves_cropped_image_paths,\n",
    "                    cucumber_mask_path=cucumber_mask_path,\n",
    "                    save_dir=save_dir,\n",
    "                    mask_save_dir=mask_save_dir,\n",
    "                    coco_json=coco_json,\n",
    "                    global_image_id=global_image_id,\n",
    "                    global_annotation_id=global_annotation_id,\n",
    "                    position=position,\n",
    "                    occlusion_ratio=occlusion_ratio,\n",
    "                    initial_leaf_ratio=initial_leaf_ratio,\n",
    "                    multi_leaves=multi_leaves\n",
    "                )\n",
    "\n",
    "                sample_count += 1\n",
    "                cucumber_sample_count += 1\n",
    "                pbar.update(1)\n",
    "\n",
    "                if sample_count >= sample_limit:\n",
    "                    break\n",
    "\n",
    "            if sample_count >= sample_limit:\n",
    "                break\n",
    "\n",
    "        if sample_count >= sample_limit:\n",
    "            break\n",
    "\n",
    "# 최종 COCO JSON 저장\n",
    "output_json_path = os.path.join(json_dir, \"dataset.json\")\n",
    "save_coco_json(coco_json, output_json_path)"
   ]
  },
  {
   "cell_type": "code",
   "execution_count": null,
   "metadata": {},
   "outputs": [],
   "source": []
  }
 ],
 "metadata": {
  "kernelspec": {
   "display_name": "yolo",
   "language": "python",
   "name": "python3"
  },
  "language_info": {
   "codemirror_mode": {
    "name": "ipython",
    "version": 3
   },
   "file_extension": ".py",
   "mimetype": "text/x-python",
   "name": "python",
   "nbconvert_exporter": "python",
   "pygments_lexer": "ipython3",
   "version": "3.8.19"
  }
 },
 "nbformat": 4,
 "nbformat_minor": 2
}
