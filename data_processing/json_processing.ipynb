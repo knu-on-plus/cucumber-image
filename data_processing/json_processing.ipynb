{
 "cells": [
  {
   "cell_type": "code",
   "execution_count": 2,
   "metadata": {},
   "outputs": [],
   "source": [
    "from pycocotools.coco import COCO\n",
    "import os, sys\n",
    "import json, random\n",
    "import shutil\n",
    "from datetime import datetime\n",
    "sys.path.append(\"/home/knuvi/Desktop/song/occlusion-mask-generation/\")\n",
    "from coco_json import initialize_coco_json, save_coco_json\n",
    "from config import INPUT_PATHS, OUTPUT_PATHS, HYPERPARAMETERS"
   ]
  },
  {
   "cell_type": "code",
   "execution_count": 2,
   "metadata": {},
   "outputs": [],
   "source": [
    "def split_coco_json(coco_json, train_ratio=0.8):\n",
    "    # 이미지와 주석을 섞기 위해 ID 기반 매핑 생성\n",
    "    image_to_annotations = {img[\"id\"]: [] for img in coco_json[\"images\"]}\n",
    "    for ann in coco_json[\"annotations\"]:\n",
    "        image_to_annotations[ann[\"image_id\"]].append(ann)\n",
    "    \n",
    "    # 이미지 데이터를 섞기\n",
    "    shuffled_images = coco_json[\"images\"].copy()\n",
    "    random.shuffle(shuffled_images)\n",
    "    \n",
    "    # train/test 분리\n",
    "    split_idx = int(len(shuffled_images) * train_ratio)\n",
    "    train_images = shuffled_images[:split_idx]\n",
    "    test_images = shuffled_images[split_idx:]\n",
    "    \n",
    "    # train/test 데이터 생성\n",
    "    train_json = initialize_coco_json()\n",
    "    test_json = initialize_coco_json()\n",
    "\n",
    "    # `info` 및 `licenses` 복사\n",
    "    train_json[\"info\"] = coco_json.get(\"info\", {})\n",
    "    test_json[\"info\"] = coco_json.get(\"info\", {})\n",
    "    train_json[\"licenses\"] = coco_json.get(\"licenses\", None)\n",
    "    test_json[\"licenses\"] = coco_json.get(\"licenses\", None)\n",
    "\n",
    "    for img in train_images:\n",
    "        train_json[\"images\"].append(img)\n",
    "        train_json[\"annotations\"].extend(image_to_annotations[img[\"id\"]])\n",
    "    \n",
    "    for img in test_images:\n",
    "        test_json[\"images\"].append(img)\n",
    "        test_json[\"annotations\"].extend(image_to_annotations[img[\"id\"]])\n",
    "    \n",
    "    # 카테고리 복사\n",
    "    train_json[\"categories\"] = coco_json[\"categories\"]\n",
    "    test_json[\"categories\"] = coco_json[\"categories\"]\n",
    "    \n",
    "    return train_json, test_json\n"
   ]
  },
  {
   "cell_type": "code",
   "execution_count": 3,
   "metadata": {},
   "outputs": [],
   "source": [
    "def split_images_and_annotations(coco_json, train_ratio=0.8):\n",
    "    image_to_annotations = {img[\"id\"]: [] for img in coco_json[\"images\"]}\n",
    "    for ann in coco_json[\"annotations\"]:\n",
    "        image_to_annotations[ann[\"image_id\"]].append(ann)\n",
    "\n",
    "    shuffled_images = coco_json[\"images\"].copy()\n",
    "    random.shuffle(shuffled_images)\n",
    "\n",
    "    split_idx = int(len(shuffled_images) * train_ratio)\n",
    "    train_images = shuffled_images[:split_idx]\n",
    "    test_images = shuffled_images[split_idx:]\n",
    "\n",
    "    train_annotations = [ann for img in train_images for ann in image_to_annotations[img[\"id\"]]]\n",
    "    test_annotations = [ann for img in test_images for ann in image_to_annotations[img[\"id\"]]]\n",
    "\n",
    "    return train_images, test_images, train_annotations, test_annotations\n",
    "\n",
    "\n",
    "def save_split_data(coco_json, train_images, test_images, train_annotations, test_annotations, output_paths):\n",
    "\n",
    "\n",
    "    # Output 디렉터리 설정\n",
    "    train_image_dir = os.path.join(OUTPUT_PATHS[\"save_dir\"], \"train\")\n",
    "    test_image_dir = os.path.join(OUTPUT_PATHS[\"save_dir\"], \"test\")\n",
    "    train_json_dir = os.path.join(OUTPUT_PATHS[\"json_dir\"], \"train.json\")\n",
    "    test_json_dir = os.path.join(OUTPUT_PATHS[\"json_dir\"], \"test.json\")\n",
    "    os.makedirs(train_image_dir, exist_ok=True)\n",
    "    os.makedirs(test_image_dir, exist_ok=True)\n",
    "\n",
    "    # JSON 구조 생성\n",
    "    train_json = initialize_coco_json()\n",
    "    test_json = initialize_coco_json()\n",
    "\n",
    "    train_json[\"images\"] = train_images\n",
    "    train_json[\"annotations\"] = train_annotations\n",
    "    test_json[\"images\"] = test_images\n",
    "    test_json[\"annotations\"] = test_annotations\n",
    "    train_json[\"categories\"] = test_json[\"categories\"] = coco_json[\"categories\"]\n",
    "\n",
    "    # JSON 저장\n",
    "    save_coco_json(train_json, train_json_dir)\n",
    "    save_coco_json(test_json, test_json_dir)\n",
    "\n",
    "    # 이미지 저장\n",
    "    copy_images_to_split_dirs(train_images, train_image_dir, output_paths[\"save_dir\"])\n",
    "    copy_images_to_split_dirs(test_images, test_image_dir, output_paths[\"save_dir\"])\n",
    "\n",
    "\n",
    "def copy_images_to_split_dirs(images, target_dir, source_dir):\n",
    "    for img in images:\n",
    "        src_path = os.path.join(source_dir, img[\"file_name\"])\n",
    "        dest_path = os.path.join(target_dir, img[\"file_name\"])\n",
    "        if os.path.exists(src_path):\n",
    "            shutil.copy(src_path, dest_path)\n"
   ]
  },
  {
   "cell_type": "code",
   "execution_count": null,
   "metadata": {},
   "outputs": [
    {
     "name": "stdout",
     "output_type": "stream",
     "text": [
      "COCO JSON 파일 로드됨: /home/knuvi/Desktop/song/occlusion-mask-generation/data/synthesis/amodal_info6/dataset.json\n"
     ]
    }
   ],
   "source": [
    "file_path = os.path.join(\"/home/knuvi/Desktop/song/occlusion-mask-generation/data/synthesis/condition3_info_valid\", \"dataset.json\")\n",
    "with open(file_path, \"r\") as json_file:\n",
    "    coco_json = json.load(json_file)\n",
    "    print(f\"COCO JSON 파일 로드됨: {file_path}\")\n"
   ]
  },
  {
   "cell_type": "code",
   "execution_count": 5,
   "metadata": {},
   "outputs": [],
   "source": [
    "# 중복 확인 코드\n",
    "image_ids = [image['id'] for image in coco_json['images']]\n",
    "if len(image_ids) != len(set(image_ids)):\n",
    "    print(\"중복된 image_id가 있습니다!\")"
   ]
  },
  {
   "cell_type": "code",
   "execution_count": 6,
   "metadata": {},
   "outputs": [
    {
     "name": "stdout",
     "output_type": "stream",
     "text": [
      "COCO JSON 파일 저장됨: /home/knuvi/Desktop/song/occlusion-mask-generation/data/synthesis/amodal_info6/train.json\n",
      "COCO JSON 파일 저장됨: /home/knuvi/Desktop/song/occlusion-mask-generation/data/synthesis/amodal_info6/test.json\n"
     ]
    }
   ],
   "source": [
    "train_images, test_images, train_annotations, test_annotations = split_images_and_annotations(coco_json, train_ratio=0.8)\n",
    "save_split_data(coco_json, train_images, test_images, train_annotations, test_annotations, OUTPUT_PATHS)\n"
   ]
  },
  {
   "cell_type": "code",
   "execution_count": 10,
   "metadata": {},
   "outputs": [
    {
     "name": "stdout",
     "output_type": "stream",
     "text": [
      "loading annotations into memory...\n",
      "Done (t=0.01s)\n",
      "creating index...\n",
      "index created!\n",
      "Valid COCO Format!\n"
     ]
    }
   ],
   "source": [
    "coco = COCO(\"/home/knuvi/Desktop/song/occlusion-mask-generation/data/synthesis/amodal_info5/train.json\")\n",
    "print(\"Valid COCO Format!\")"
   ]
  },
  {
   "cell_type": "code",
   "execution_count": 6,
   "metadata": {},
   "outputs": [
    {
     "name": "stdout",
     "output_type": "stream",
     "text": [
      "COCO JSON format is valid!\n"
     ]
    },
    {
     "data": {
      "text/plain": [
       "True"
      ]
     },
     "execution_count": 6,
     "metadata": {},
     "output_type": "execute_result"
    }
   ],
   "source": [
    "import json\n",
    "\n",
    "def validate_coco_format(json_path):\n",
    "    with open(json_path, \"r\") as f:\n",
    "        coco_data = json.load(f)\n",
    "\n",
    "    required_keys = [\"info\", \"images\", \"annotations\", \"categories\"]\n",
    "    missing_keys = [key for key in required_keys if key not in coco_data]\n",
    "    if missing_keys:\n",
    "        print(f\"Missing keys in COCO JSON: {missing_keys}\")\n",
    "        return False\n",
    "\n",
    "    # Validate `images`\n",
    "    for img in coco_data[\"images\"]:\n",
    "        if not all(key in img for key in [\"id\", \"width\", \"height\", \"file_name\"]):\n",
    "            print(f\"Invalid image entry: {img}\")\n",
    "            return False\n",
    "\n",
    "    # Validate `annotations`\n",
    "    for ann in coco_data[\"annotations\"]:\n",
    "        if not all(key in ann for key in [\"id\", \"image_id\", \"category_id\", \"bbox\", \"area\", \"segmentation\", \"iscrowd\"]):\n",
    "            print(f\"Invalid annotation entry: {ann}\")\n",
    "            return False\n",
    "\n",
    "    # Validate `categories`\n",
    "    for cat in coco_data[\"categories\"]:\n",
    "        if not all(key in cat for key in [\"id\", \"name\", \"supercategory\"]):\n",
    "            print(f\"Invalid category entry: {cat}\")\n",
    "            return False\n",
    "\n",
    "    print(\"COCO JSON format is valid!\")\n",
    "    return True\n",
    "\n",
    "# Replace this path with your JSON file path\n",
    "validate_coco_format(\"/home/knuvi/Desktop/song/cucumber-image/data/oi_seg/amodal_info4/dataset.json\")\n"
   ]
  },
  {
   "cell_type": "code",
   "execution_count": 16,
   "metadata": {},
   "outputs": [
    {
     "name": "stdout",
     "output_type": "stream",
     "text": [
      "All image IDs in 'annotations' are present in 'images'.\n"
     ]
    }
   ],
   "source": [
    "# images의 ID 목록\n",
    "image_ids = set(img[\"id\"] for img in coco_json[\"images\"])\n",
    "# annotations의 image_id 목록\n",
    "annotation_image_ids = set(ann[\"image_id\"] for ann in coco_json[\"annotations\"])\n",
    "\n",
    "# 차집합 확인\n",
    "missing_ids = annotation_image_ids - image_ids\n",
    "if missing_ids:\n",
    "    print(f\"Missing image IDs in 'images': {missing_ids}\")\n",
    "else:\n",
    "    print(\"All image IDs in 'annotations' are present in 'images'.\")\n"
   ]
  },
  {
   "cell_type": "code",
   "execution_count": null,
   "metadata": {},
   "outputs": [],
   "source": []
  }
 ],
 "metadata": {
  "kernelspec": {
   "display_name": "yolo",
   "language": "python",
   "name": "python3"
  },
  "language_info": {
   "codemirror_mode": {
    "name": "ipython",
    "version": 3
   },
   "file_extension": ".py",
   "mimetype": "text/x-python",
   "name": "python",
   "nbconvert_exporter": "python",
   "pygments_lexer": "ipython3",
   "version": "3.8.19"
  }
 },
 "nbformat": 4,
 "nbformat_minor": 2
}
